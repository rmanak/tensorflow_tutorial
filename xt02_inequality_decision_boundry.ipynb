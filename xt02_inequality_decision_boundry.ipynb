{
 "cells": [
  {
   "cell_type": "code",
   "execution_count": 1,
   "metadata": {},
   "outputs": [
    {
     "name": "stderr",
     "output_type": "stream",
     "text": [
      "/home/arman/anaconda3/lib/python3.6/site-packages/h5py/__init__.py:36: FutureWarning: Conversion of the second argument of issubdtype from `float` to `np.floating` is deprecated. In future, it will be treated as `np.float64 == np.dtype(float).type`.\n",
      "  from ._conv import register_converters as _register_converters\n"
     ]
    }
   ],
   "source": [
    "import numpy as np\n",
    "import tensorflow as tf\n",
    "import matplotlib.pyplot as plt\n",
    "from sklearn.metrics import accuracy_score"
   ]
  },
  {
   "cell_type": "code",
   "execution_count": 35,
   "metadata": {},
   "outputs": [],
   "source": [
    "N = 10000\n",
    "X = np.random.normal(size=(N, 4)).astype(np.float32)\n",
    "y = (X[:, 0] < X[:, 1]) & (X[:, 1] < X[:, 2]) & (X[:, 2] < X[:, 3])\n",
    "y = np.array([int(x) for x in y]).astype(np.float32)"
   ]
  },
  {
   "cell_type": "code",
   "execution_count": 36,
   "metadata": {},
   "outputs": [],
   "source": [
    "TRAIN_SIZE = int(N*0.8)\n",
    "train_x, test_x = X[:TRAIN_SIZE], X[TRAIN_SIZE:]\n",
    "train_y, test_y = y[:TRAIN_SIZE], y[TRAIN_SIZE:]"
   ]
  },
  {
   "cell_type": "code",
   "execution_count": 39,
   "metadata": {},
   "outputs": [],
   "source": [
    "def train_input_fn(features, labels, batch_size=128):\n",
    "    # Can do all features as one:\n",
    "    # dataset = tf.data.Dataset.from_tensor_slices(({'feats': features}, labels))\n",
    "    # Or separate \"columns\":\n",
    "    dataset = tf.data.Dataset.from_tensor_slices(({'feat0': features[:,0],\n",
    "                                                   'feat1': features[:, 1],\n",
    "                                                   'feat2': features[:, 2],\n",
    "                                                   'feat3': features[:, 2]},\n",
    "                                                   labels))\n",
    "    dataset = dataset.shuffle(1000).repeat().batch(batch_size)\n",
    "    return dataset"
   ]
  },
  {
   "cell_type": "code",
   "execution_count": 40,
   "metadata": {},
   "outputs": [],
   "source": [
    "def eval_input_fn(features, labels, batch_size=32):\n",
    "    feats = {'feat0': features[:,0], 'feat1': features[:, 1],\n",
    "             'feat2': features[:, 2],'feat3': features[:, 3]}\n",
    "    \n",
    "    if labels is None:\n",
    "        inputs = feats\n",
    "    else:\n",
    "        inputs = (feats, labels)\n",
    "\n",
    "    dataset = tf.data.Dataset.from_tensor_slices(inputs)\n",
    "\n",
    "    dataset = dataset.batch(batch_size)\n",
    "\n",
    "    return dataset"
   ]
  },
  {
   "cell_type": "code",
   "execution_count": 41,
   "metadata": {},
   "outputs": [],
   "source": [
    "my_feature_columns = []\n",
    "for key in ['feat0', 'feat1', 'feat2', 'feat3']:\n",
    "    my_feature_columns.append(tf.feature_column.numeric_column(key=key))"
   ]
  },
  {
   "cell_type": "code",
   "execution_count": 49,
   "metadata": {},
   "outputs": [
    {
     "name": "stdout",
     "output_type": "stream",
     "text": [
      "INFO:tensorflow:Using default config.\n",
      "WARNING:tensorflow:Using temporary folder as model directory: /tmp/tmpi_8eao1a\n",
      "INFO:tensorflow:Using config: {'_model_dir': '/tmp/tmpi_8eao1a', '_tf_random_seed': None, '_save_summary_steps': 100, '_save_checkpoints_steps': None, '_save_checkpoints_secs': 600, '_session_config': None, '_keep_checkpoint_max': 5, '_keep_checkpoint_every_n_hours': 10000, '_log_step_count_steps': 100, '_train_distribute': None, '_service': None, '_cluster_spec': <tensorflow.python.training.server_lib.ClusterSpec object at 0x7f57246fdeb8>, '_task_type': 'worker', '_task_id': 0, '_global_id_in_cluster': 0, '_master': '', '_evaluation_master': '', '_is_chief': True, '_num_ps_replicas': 0, '_num_worker_replicas': 1}\n"
     ]
    }
   ],
   "source": [
    "classifier = tf.estimator.DNNClassifier(\n",
    "    feature_columns=my_feature_columns,\n",
    "    hidden_units=[128, 128, 64, 64],\n",
    "    n_classes=2)"
   ]
  },
  {
   "cell_type": "code",
   "execution_count": 50,
   "metadata": {},
   "outputs": [
    {
     "name": "stdout",
     "output_type": "stream",
     "text": [
      "INFO:tensorflow:Calling model_fn.\n",
      "INFO:tensorflow:Done calling model_fn.\n",
      "INFO:tensorflow:Create CheckpointSaverHook.\n",
      "INFO:tensorflow:Graph was finalized.\n",
      "INFO:tensorflow:Running local_init_op.\n",
      "INFO:tensorflow:Done running local_init_op.\n",
      "INFO:tensorflow:Saving checkpoints for 1 into /tmp/tmpi_8eao1a/model.ckpt.\n",
      "INFO:tensorflow:loss = 62.778046, step = 0\n",
      "INFO:tensorflow:global_step/sec: 531.846\n",
      "INFO:tensorflow:loss = 14.604319, step = 100 (0.189 sec)\n",
      "INFO:tensorflow:global_step/sec: 656.906\n",
      "INFO:tensorflow:loss = 9.106498, step = 200 (0.152 sec)\n",
      "INFO:tensorflow:global_step/sec: 754.17\n",
      "INFO:tensorflow:loss = 12.889675, step = 300 (0.133 sec)\n",
      "INFO:tensorflow:global_step/sec: 788.557\n",
      "INFO:tensorflow:loss = 6.4205136, step = 400 (0.127 sec)\n",
      "INFO:tensorflow:global_step/sec: 758.812\n",
      "INFO:tensorflow:loss = 7.17578, step = 500 (0.132 sec)\n",
      "INFO:tensorflow:global_step/sec: 750.716\n",
      "INFO:tensorflow:loss = 9.299761, step = 600 (0.133 sec)\n",
      "INFO:tensorflow:global_step/sec: 817.124\n",
      "INFO:tensorflow:loss = 7.767372, step = 700 (0.122 sec)\n",
      "INFO:tensorflow:global_step/sec: 779.67\n",
      "INFO:tensorflow:loss = 3.6623836, step = 800 (0.128 sec)\n",
      "INFO:tensorflow:global_step/sec: 727.027\n",
      "INFO:tensorflow:loss = 7.2520022, step = 900 (0.138 sec)\n",
      "INFO:tensorflow:global_step/sec: 737.399\n",
      "INFO:tensorflow:loss = 7.123441, step = 1000 (0.135 sec)\n",
      "INFO:tensorflow:global_step/sec: 795.174\n",
      "INFO:tensorflow:loss = 8.504123, step = 1100 (0.126 sec)\n",
      "INFO:tensorflow:global_step/sec: 733.429\n",
      "INFO:tensorflow:loss = 5.618594, step = 1200 (0.136 sec)\n",
      "INFO:tensorflow:global_step/sec: 722.507\n",
      "INFO:tensorflow:loss = 18.127224, step = 1300 (0.138 sec)\n",
      "INFO:tensorflow:global_step/sec: 738.594\n",
      "INFO:tensorflow:loss = 7.816164, step = 1400 (0.136 sec)\n",
      "INFO:tensorflow:global_step/sec: 759.202\n",
      "INFO:tensorflow:loss = 11.973162, step = 1500 (0.132 sec)\n",
      "INFO:tensorflow:global_step/sec: 807.439\n",
      "INFO:tensorflow:loss = 10.627583, step = 1600 (0.125 sec)\n",
      "INFO:tensorflow:global_step/sec: 701.732\n",
      "INFO:tensorflow:loss = 6.72092, step = 1700 (0.142 sec)\n",
      "INFO:tensorflow:global_step/sec: 692.705\n",
      "INFO:tensorflow:loss = 4.815604, step = 1800 (0.145 sec)\n",
      "INFO:tensorflow:global_step/sec: 725.352\n",
      "INFO:tensorflow:loss = 7.9517016, step = 1900 (0.137 sec)\n",
      "INFO:tensorflow:global_step/sec: 662.433\n",
      "INFO:tensorflow:loss = 5.5093293, step = 2000 (0.152 sec)\n",
      "INFO:tensorflow:global_step/sec: 683.372\n",
      "INFO:tensorflow:loss = 6.203594, step = 2100 (0.145 sec)\n",
      "INFO:tensorflow:global_step/sec: 682.818\n",
      "INFO:tensorflow:loss = 7.1069746, step = 2200 (0.146 sec)\n",
      "INFO:tensorflow:global_step/sec: 699.572\n",
      "INFO:tensorflow:loss = 11.225418, step = 2300 (0.144 sec)\n",
      "INFO:tensorflow:global_step/sec: 709.091\n",
      "INFO:tensorflow:loss = 9.622234, step = 2400 (0.140 sec)\n",
      "INFO:tensorflow:global_step/sec: 625.978\n",
      "INFO:tensorflow:loss = 12.233703, step = 2500 (0.160 sec)\n",
      "INFO:tensorflow:global_step/sec: 735.239\n",
      "INFO:tensorflow:loss = 3.438924, step = 2600 (0.136 sec)\n",
      "INFO:tensorflow:global_step/sec: 687.68\n",
      "INFO:tensorflow:loss = 6.641465, step = 2700 (0.145 sec)\n",
      "INFO:tensorflow:global_step/sec: 713.701\n",
      "INFO:tensorflow:loss = 9.0703335, step = 2800 (0.140 sec)\n",
      "INFO:tensorflow:global_step/sec: 671.429\n",
      "INFO:tensorflow:loss = 15.270309, step = 2900 (0.149 sec)\n",
      "INFO:tensorflow:global_step/sec: 768.159\n",
      "INFO:tensorflow:loss = 7.272837, step = 3000 (0.130 sec)\n",
      "INFO:tensorflow:global_step/sec: 688.661\n",
      "INFO:tensorflow:loss = 13.250896, step = 3100 (0.145 sec)\n",
      "INFO:tensorflow:global_step/sec: 663.774\n",
      "INFO:tensorflow:loss = 6.2875185, step = 3200 (0.151 sec)\n",
      "INFO:tensorflow:global_step/sec: 753.151\n",
      "INFO:tensorflow:loss = 9.190249, step = 3300 (0.134 sec)\n",
      "INFO:tensorflow:global_step/sec: 706.019\n",
      "INFO:tensorflow:loss = 11.805286, step = 3400 (0.140 sec)\n",
      "INFO:tensorflow:global_step/sec: 686.378\n",
      "INFO:tensorflow:loss = 13.207708, step = 3500 (0.147 sec)\n",
      "INFO:tensorflow:global_step/sec: 659.994\n",
      "INFO:tensorflow:loss = 7.987601, step = 3600 (0.150 sec)\n",
      "INFO:tensorflow:global_step/sec: 752.675\n",
      "INFO:tensorflow:loss = 14.083892, step = 3700 (0.133 sec)\n",
      "INFO:tensorflow:global_step/sec: 772.472\n",
      "INFO:tensorflow:loss = 8.129494, step = 3800 (0.129 sec)\n",
      "INFO:tensorflow:global_step/sec: 542.29\n",
      "INFO:tensorflow:loss = 9.584464, step = 3900 (0.186 sec)\n",
      "INFO:tensorflow:global_step/sec: 383.718\n",
      "INFO:tensorflow:loss = 4.7963276, step = 4000 (0.260 sec)\n",
      "INFO:tensorflow:global_step/sec: 707.33\n",
      "INFO:tensorflow:loss = 5.440966, step = 4100 (0.141 sec)\n",
      "INFO:tensorflow:global_step/sec: 753.739\n",
      "INFO:tensorflow:loss = 8.229586, step = 4200 (0.133 sec)\n",
      "INFO:tensorflow:global_step/sec: 705.416\n",
      "INFO:tensorflow:loss = 8.422511, step = 4300 (0.141 sec)\n",
      "INFO:tensorflow:global_step/sec: 705.366\n",
      "INFO:tensorflow:loss = 5.435782, step = 4400 (0.142 sec)\n",
      "INFO:tensorflow:global_step/sec: 483.566\n",
      "INFO:tensorflow:loss = 16.468002, step = 4500 (0.210 sec)\n",
      "INFO:tensorflow:global_step/sec: 524.862\n",
      "INFO:tensorflow:loss = 9.204953, step = 4600 (0.189 sec)\n",
      "INFO:tensorflow:global_step/sec: 721.899\n",
      "INFO:tensorflow:loss = 6.9100065, step = 4700 (0.138 sec)\n",
      "INFO:tensorflow:global_step/sec: 753.122\n",
      "INFO:tensorflow:loss = 6.981987, step = 4800 (0.133 sec)\n",
      "INFO:tensorflow:global_step/sec: 664.295\n",
      "INFO:tensorflow:loss = 5.512326, step = 4900 (0.152 sec)\n",
      "INFO:tensorflow:global_step/sec: 422.395\n",
      "INFO:tensorflow:loss = 6.3866735, step = 5000 (0.236 sec)\n",
      "INFO:tensorflow:global_step/sec: 719.644\n",
      "INFO:tensorflow:loss = 7.8694777, step = 5100 (0.139 sec)\n",
      "INFO:tensorflow:global_step/sec: 737.131\n",
      "INFO:tensorflow:loss = 8.616533, step = 5200 (0.136 sec)\n",
      "INFO:tensorflow:global_step/sec: 806.378\n",
      "INFO:tensorflow:loss = 6.6585245, step = 5300 (0.124 sec)\n",
      "INFO:tensorflow:global_step/sec: 789.302\n",
      "INFO:tensorflow:loss = 4.739992, step = 5400 (0.127 sec)\n",
      "INFO:tensorflow:global_step/sec: 760.831\n",
      "INFO:tensorflow:loss = 7.263664, step = 5500 (0.132 sec)\n",
      "INFO:tensorflow:global_step/sec: 733.76\n",
      "INFO:tensorflow:loss = 5.542936, step = 5600 (0.136 sec)\n",
      "INFO:tensorflow:global_step/sec: 694.741\n",
      "INFO:tensorflow:loss = 8.588087, step = 5700 (0.144 sec)\n",
      "INFO:tensorflow:global_step/sec: 715.294\n",
      "INFO:tensorflow:loss = 8.039534, step = 5800 (0.139 sec)\n",
      "INFO:tensorflow:global_step/sec: 732.493\n",
      "INFO:tensorflow:loss = 10.117143, step = 5900 (0.137 sec)\n",
      "INFO:tensorflow:global_step/sec: 817.383\n",
      "INFO:tensorflow:loss = 5.115887, step = 6000 (0.122 sec)\n",
      "INFO:tensorflow:global_step/sec: 553.345\n",
      "INFO:tensorflow:loss = 9.157186, step = 6100 (0.184 sec)\n",
      "INFO:tensorflow:global_step/sec: 427.557\n",
      "INFO:tensorflow:loss = 6.013119, step = 6200 (0.231 sec)\n",
      "INFO:tensorflow:global_step/sec: 733.748\n",
      "INFO:tensorflow:loss = 8.266919, step = 6300 (0.136 sec)\n",
      "INFO:tensorflow:global_step/sec: 649.11\n",
      "INFO:tensorflow:loss = 6.151348, step = 6400 (0.155 sec)\n",
      "INFO:tensorflow:global_step/sec: 668.532\n",
      "INFO:tensorflow:loss = 9.879089, step = 6500 (0.148 sec)\n",
      "INFO:tensorflow:global_step/sec: 664.093\n",
      "INFO:tensorflow:loss = 10.38492, step = 6600 (0.151 sec)\n",
      "INFO:tensorflow:global_step/sec: 667.573\n",
      "INFO:tensorflow:loss = 8.588066, step = 6700 (0.151 sec)\n",
      "INFO:tensorflow:global_step/sec: 673.722\n",
      "INFO:tensorflow:loss = 8.291847, step = 6800 (0.148 sec)\n",
      "INFO:tensorflow:global_step/sec: 703.828\n",
      "INFO:tensorflow:loss = 9.972002, step = 6900 (0.141 sec)\n",
      "INFO:tensorflow:global_step/sec: 634.769\n",
      "INFO:tensorflow:loss = 4.535775, step = 7000 (0.158 sec)\n",
      "INFO:tensorflow:global_step/sec: 478.056\n",
      "INFO:tensorflow:loss = 7.9267364, step = 7100 (0.209 sec)\n",
      "INFO:tensorflow:global_step/sec: 543.692\n",
      "INFO:tensorflow:loss = 6.2543173, step = 7200 (0.185 sec)\n",
      "INFO:tensorflow:global_step/sec: 701.224\n",
      "INFO:tensorflow:loss = 4.132279, step = 7300 (0.142 sec)\n",
      "INFO:tensorflow:global_step/sec: 740.383\n",
      "INFO:tensorflow:loss = 5.611273, step = 7400 (0.136 sec)\n",
      "INFO:tensorflow:global_step/sec: 655.171\n",
      "INFO:tensorflow:loss = 9.035325, step = 7500 (0.152 sec)\n",
      "INFO:tensorflow:global_step/sec: 696.14\n",
      "INFO:tensorflow:loss = 7.6570835, step = 7600 (0.144 sec)\n",
      "INFO:tensorflow:global_step/sec: 754.405\n",
      "INFO:tensorflow:loss = 8.29274, step = 7700 (0.133 sec)\n",
      "INFO:tensorflow:global_step/sec: 738.538\n",
      "INFO:tensorflow:loss = 5.264458, step = 7800 (0.135 sec)\n",
      "INFO:tensorflow:global_step/sec: 764.905\n",
      "INFO:tensorflow:loss = 10.126337, step = 7900 (0.131 sec)\n",
      "INFO:tensorflow:global_step/sec: 695.708\n",
      "INFO:tensorflow:loss = 7.256064, step = 8000 (0.145 sec)\n"
     ]
    },
    {
     "name": "stdout",
     "output_type": "stream",
     "text": [
      "INFO:tensorflow:global_step/sec: 669.765\n",
      "INFO:tensorflow:loss = 6.779358, step = 8100 (0.148 sec)\n",
      "INFO:tensorflow:global_step/sec: 701.68\n",
      "INFO:tensorflow:loss = 4.941165, step = 8200 (0.143 sec)\n",
      "INFO:tensorflow:global_step/sec: 627.379\n",
      "INFO:tensorflow:loss = 8.624987, step = 8300 (0.160 sec)\n",
      "INFO:tensorflow:global_step/sec: 708.518\n",
      "INFO:tensorflow:loss = 4.0336914, step = 8400 (0.141 sec)\n",
      "INFO:tensorflow:global_step/sec: 718.859\n",
      "INFO:tensorflow:loss = 10.393011, step = 8500 (0.138 sec)\n",
      "INFO:tensorflow:global_step/sec: 755.552\n",
      "INFO:tensorflow:loss = 6.646118, step = 8600 (0.133 sec)\n",
      "INFO:tensorflow:global_step/sec: 542.19\n",
      "INFO:tensorflow:loss = 7.6087093, step = 8700 (0.183 sec)\n",
      "INFO:tensorflow:global_step/sec: 698.913\n",
      "INFO:tensorflow:loss = 9.296492, step = 8800 (0.143 sec)\n",
      "INFO:tensorflow:global_step/sec: 715.379\n",
      "INFO:tensorflow:loss = 6.709508, step = 8900 (0.140 sec)\n",
      "INFO:tensorflow:global_step/sec: 726.157\n",
      "INFO:tensorflow:loss = 3.4169483, step = 9000 (0.139 sec)\n",
      "INFO:tensorflow:global_step/sec: 744.43\n",
      "INFO:tensorflow:loss = 6.2379227, step = 9100 (0.134 sec)\n",
      "INFO:tensorflow:global_step/sec: 749.359\n",
      "INFO:tensorflow:loss = 6.8911366, step = 9200 (0.133 sec)\n",
      "INFO:tensorflow:global_step/sec: 751.425\n",
      "INFO:tensorflow:loss = 9.89896, step = 9300 (0.132 sec)\n",
      "INFO:tensorflow:global_step/sec: 672.252\n",
      "INFO:tensorflow:loss = 6.501391, step = 9400 (0.150 sec)\n",
      "INFO:tensorflow:global_step/sec: 663.698\n",
      "INFO:tensorflow:loss = 11.994762, step = 9500 (0.151 sec)\n",
      "INFO:tensorflow:global_step/sec: 688.273\n",
      "INFO:tensorflow:loss = 7.038076, step = 9600 (0.144 sec)\n",
      "INFO:tensorflow:global_step/sec: 696.66\n",
      "INFO:tensorflow:loss = 8.043113, step = 9700 (0.143 sec)\n",
      "INFO:tensorflow:global_step/sec: 517.271\n",
      "INFO:tensorflow:loss = 3.6152256, step = 9800 (0.193 sec)\n",
      "INFO:tensorflow:global_step/sec: 682.411\n",
      "INFO:tensorflow:loss = 6.04354, step = 9900 (0.147 sec)\n",
      "INFO:tensorflow:Saving checkpoints for 10000 into /tmp/tmpi_8eao1a/model.ckpt.\n",
      "INFO:tensorflow:Loss for final step: 5.0975366.\n"
     ]
    },
    {
     "data": {
      "text/plain": [
       "<tensorflow.python.estimator.canned.dnn.DNNClassifier at 0x7f574afcdf28>"
      ]
     },
     "execution_count": 50,
     "metadata": {},
     "output_type": "execute_result"
    }
   ],
   "source": [
    "classifier.train(input_fn=lambda: train_input_fn(train_x, train_y, batch_size=100), steps=10000)"
   ]
  },
  {
   "cell_type": "code",
   "execution_count": 51,
   "metadata": {},
   "outputs": [
    {
     "name": "stdout",
     "output_type": "stream",
     "text": [
      "INFO:tensorflow:Calling model_fn.\n",
      "WARNING:tensorflow:Trapezoidal rule is known to produce incorrect PR-AUCs; please switch to \"careful_interpolation\" instead.\n",
      "WARNING:tensorflow:Trapezoidal rule is known to produce incorrect PR-AUCs; please switch to \"careful_interpolation\" instead.\n",
      "INFO:tensorflow:Done calling model_fn.\n",
      "INFO:tensorflow:Starting evaluation at 2018-10-23-03:40:14\n",
      "INFO:tensorflow:Graph was finalized.\n",
      "INFO:tensorflow:Restoring parameters from /tmp/tmpi_8eao1a/model.ckpt-10000\n",
      "INFO:tensorflow:Running local_init_op.\n",
      "INFO:tensorflow:Done running local_init_op.\n",
      "INFO:tensorflow:Finished evaluation at 2018-10-23-03:40:15\n",
      "INFO:tensorflow:Saving dict for global step 10000: accuracy = 0.945, accuracy_baseline = 0.9585, auc = 0.88133436, auc_precision_recall = 0.2563562, average_loss = 0.20770557, global_step = 10000, label/mean = 0.0415, loss = 20.770557, precision = 0.18604651, prediction/mean = 0.037226032, recall = 0.09638554\n",
      "\n",
      "Test set accuracy: 0.945\n",
      "\n"
     ]
    }
   ],
   "source": [
    "eval_result = classifier.evaluate(input_fn=lambda: eval_input_fn(test_x, test_y, batch_size=100))\n",
    "print('\\nTest set accuracy: {accuracy:0.3f}\\n'.format(**eval_result))"
   ]
  },
  {
   "cell_type": "code",
   "execution_count": 52,
   "metadata": {},
   "outputs": [
    {
     "name": "stdout",
     "output_type": "stream",
     "text": [
      "full eval results\n",
      "{'accuracy': 0.945, 'accuracy_baseline': 0.9585, 'auc': 0.88133436, 'auc_precision_recall': 0.2563562, 'average_loss': 0.20770557, 'label/mean': 0.0415, 'loss': 20.770557, 'precision': 0.18604651, 'prediction/mean': 0.037226032, 'recall': 0.09638554, 'global_step': 10000}\n"
     ]
    }
   ],
   "source": [
    "print(\"full eval results\")\n",
    "print(eval_result)"
   ]
  },
  {
   "cell_type": "code",
   "execution_count": null,
   "metadata": {},
   "outputs": [],
   "source": []
  }
 ],
 "metadata": {
  "kernelspec": {
   "display_name": "Python 3",
   "language": "python",
   "name": "python3"
  },
  "language_info": {
   "codemirror_mode": {
    "name": "ipython",
    "version": 3
   },
   "file_extension": ".py",
   "mimetype": "text/x-python",
   "name": "python",
   "nbconvert_exporter": "python",
   "pygments_lexer": "ipython3",
   "version": "3.6.5"
  }
 },
 "nbformat": 4,
 "nbformat_minor": 2
}
