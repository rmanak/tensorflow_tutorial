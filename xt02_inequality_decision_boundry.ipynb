{
 "cells": [
  {
   "cell_type": "code",
   "execution_count": 1,
   "metadata": {},
   "outputs": [
    {
     "name": "stderr",
     "output_type": "stream",
     "text": [
      "/home/arman/anaconda3/lib/python3.6/site-packages/h5py/__init__.py:36: FutureWarning: Conversion of the second argument of issubdtype from `float` to `np.floating` is deprecated. In future, it will be treated as `np.float64 == np.dtype(float).type`.\n",
      "  from ._conv import register_converters as _register_converters\n"
     ]
    }
   ],
   "source": [
    "import numpy as np\n",
    "import tensorflow as tf\n",
    "import matplotlib.pyplot as plt\n",
    "from sklearn.metrics import accuracy_score"
   ]
  },
  {
   "cell_type": "code",
   "execution_count": 11,
   "metadata": {},
   "outputs": [],
   "source": [
    "N = 100000\n",
    "X = np.random.normal(size=(N, 4)).astype(np.float32)\n",
    "y = (X[:, 0] < X[:, 1]) & (X[:, 1] < X[:, 2]) & (X[:, 2] < X[:, 3])\n",
    "y = np.array([int(x) for x in y]).astype(np.float32)"
   ]
  },
  {
   "cell_type": "code",
   "execution_count": 12,
   "metadata": {},
   "outputs": [],
   "source": [
    "TRAIN_SIZE = int(N*0.8)\n",
    "train_x, test_x = X[:TRAIN_SIZE], X[TRAIN_SIZE:]\n",
    "train_y, test_y = y[:TRAIN_SIZE], y[TRAIN_SIZE:]"
   ]
  },
  {
   "cell_type": "code",
   "execution_count": 13,
   "metadata": {},
   "outputs": [],
   "source": [
    "def train_input_fn(features, labels, batch_size=128):\n",
    "    # Can do all features as one:\n",
    "    # dataset = tf.data.Dataset.from_tensor_slices(({'feats': features}, labels))\n",
    "    # Or separate \"columns\":\n",
    "    dataset = tf.data.Dataset.from_tensor_slices(({'feat0': features[:,0],\n",
    "                                                   'feat1': features[:, 1],\n",
    "                                                   'feat2': features[:, 2],\n",
    "                                                   'feat3': features[:, 3]},\n",
    "                                                   labels))\n",
    "    dataset = dataset.shuffle(1000).repeat().batch(batch_size)\n",
    "    return dataset"
   ]
  },
  {
   "cell_type": "code",
   "execution_count": 14,
   "metadata": {},
   "outputs": [],
   "source": [
    "def eval_input_fn(features, labels, batch_size=32):\n",
    "    feats = {'feat0': features[:,0], 'feat1': features[:, 1],\n",
    "             'feat2': features[:, 2],'feat3': features[:, 3]}\n",
    "    \n",
    "    if labels is None:\n",
    "        inputs = feats\n",
    "    else:\n",
    "        inputs = (feats, labels)\n",
    "\n",
    "    dataset = tf.data.Dataset.from_tensor_slices(inputs)\n",
    "\n",
    "    dataset = dataset.batch(batch_size)\n",
    "\n",
    "    return dataset"
   ]
  },
  {
   "cell_type": "code",
   "execution_count": 15,
   "metadata": {},
   "outputs": [],
   "source": [
    "my_feature_columns = []\n",
    "for key in ['feat0', 'feat1', 'feat2', 'feat3']:\n",
    "    my_feature_columns.append(tf.feature_column.numeric_column(key=key))"
   ]
  },
  {
   "cell_type": "code",
   "execution_count": 16,
   "metadata": {},
   "outputs": [
    {
     "name": "stdout",
     "output_type": "stream",
     "text": [
      "INFO:tensorflow:Using default config.\n",
      "WARNING:tensorflow:Using temporary folder as model directory: /tmp/tmpki6d3mze\n",
      "INFO:tensorflow:Using config: {'_model_dir': '/tmp/tmpki6d3mze', '_tf_random_seed': None, '_save_summary_steps': 100, '_save_checkpoints_steps': None, '_save_checkpoints_secs': 600, '_session_config': None, '_keep_checkpoint_max': 5, '_keep_checkpoint_every_n_hours': 10000, '_log_step_count_steps': 100, '_train_distribute': None, '_service': None, '_cluster_spec': <tensorflow.python.training.server_lib.ClusterSpec object at 0x7f2662fcd400>, '_task_type': 'worker', '_task_id': 0, '_global_id_in_cluster': 0, '_master': '', '_evaluation_master': '', '_is_chief': True, '_num_ps_replicas': 0, '_num_worker_replicas': 1}\n"
     ]
    }
   ],
   "source": [
    "classifier = tf.estimator.DNNClassifier(\n",
    "    feature_columns=my_feature_columns,\n",
    "    hidden_units=[128, 128, 64, 64],\n",
    "    n_classes=2)"
   ]
  },
  {
   "cell_type": "code",
   "execution_count": 17,
   "metadata": {},
   "outputs": [
    {
     "name": "stdout",
     "output_type": "stream",
     "text": [
      "INFO:tensorflow:Calling model_fn.\n",
      "INFO:tensorflow:Done calling model_fn.\n",
      "INFO:tensorflow:Create CheckpointSaverHook.\n",
      "INFO:tensorflow:Graph was finalized.\n",
      "INFO:tensorflow:Running local_init_op.\n",
      "INFO:tensorflow:Done running local_init_op.\n",
      "INFO:tensorflow:Saving checkpoints for 1 into /tmp/tmpki6d3mze/model.ckpt.\n",
      "INFO:tensorflow:loss = 68.22771, step = 0\n",
      "INFO:tensorflow:global_step/sec: 498.814\n",
      "INFO:tensorflow:loss = 3.2198677, step = 100 (0.201 sec)\n",
      "INFO:tensorflow:global_step/sec: 760.287\n",
      "INFO:tensorflow:loss = 1.2451464, step = 200 (0.133 sec)\n",
      "INFO:tensorflow:global_step/sec: 717.866\n",
      "INFO:tensorflow:loss = 3.7431018, step = 300 (0.138 sec)\n",
      "INFO:tensorflow:global_step/sec: 698.384\n",
      "INFO:tensorflow:loss = 2.0196223, step = 400 (0.143 sec)\n",
      "INFO:tensorflow:global_step/sec: 685.542\n",
      "INFO:tensorflow:loss = 0.6388005, step = 500 (0.147 sec)\n",
      "INFO:tensorflow:global_step/sec: 677.698\n",
      "INFO:tensorflow:loss = 0.07393646, step = 600 (0.146 sec)\n",
      "INFO:tensorflow:global_step/sec: 682.307\n",
      "INFO:tensorflow:loss = 0.04853575, step = 700 (0.147 sec)\n",
      "INFO:tensorflow:global_step/sec: 710.121\n",
      "INFO:tensorflow:loss = 0.7874377, step = 800 (0.141 sec)\n",
      "INFO:tensorflow:global_step/sec: 719.759\n",
      "INFO:tensorflow:loss = 1.2213321, step = 900 (0.139 sec)\n",
      "INFO:tensorflow:global_step/sec: 769.856\n",
      "INFO:tensorflow:loss = 0.027113602, step = 1000 (0.130 sec)\n",
      "INFO:tensorflow:global_step/sec: 685.52\n",
      "INFO:tensorflow:loss = 1.6808127, step = 1100 (0.146 sec)\n",
      "INFO:tensorflow:global_step/sec: 676.256\n",
      "INFO:tensorflow:loss = 3.3004358, step = 1200 (0.148 sec)\n",
      "INFO:tensorflow:global_step/sec: 677.176\n",
      "INFO:tensorflow:loss = 0.056696273, step = 1300 (0.147 sec)\n",
      "INFO:tensorflow:global_step/sec: 744.89\n",
      "INFO:tensorflow:loss = 2.5565848, step = 1400 (0.135 sec)\n",
      "INFO:tensorflow:global_step/sec: 706.619\n",
      "INFO:tensorflow:loss = 0.103510365, step = 1500 (0.140 sec)\n",
      "INFO:tensorflow:global_step/sec: 715.502\n",
      "INFO:tensorflow:loss = 1.6719757, step = 1600 (0.141 sec)\n",
      "INFO:tensorflow:global_step/sec: 733.028\n",
      "INFO:tensorflow:loss = 0.89403194, step = 1700 (0.136 sec)\n",
      "INFO:tensorflow:global_step/sec: 731.329\n",
      "INFO:tensorflow:loss = 0.0961173, step = 1800 (0.136 sec)\n",
      "INFO:tensorflow:global_step/sec: 376.301\n",
      "INFO:tensorflow:loss = 0.29588118, step = 1900 (0.266 sec)\n",
      "INFO:tensorflow:global_step/sec: 734.581\n",
      "INFO:tensorflow:loss = 0.39731997, step = 2000 (0.136 sec)\n",
      "INFO:tensorflow:global_step/sec: 679.901\n",
      "INFO:tensorflow:loss = 0.08733258, step = 2100 (0.147 sec)\n",
      "INFO:tensorflow:global_step/sec: 707.761\n",
      "INFO:tensorflow:loss = 1.2200309, step = 2200 (0.141 sec)\n",
      "INFO:tensorflow:global_step/sec: 804.619\n",
      "INFO:tensorflow:loss = 0.006439423, step = 2300 (0.124 sec)\n",
      "INFO:tensorflow:global_step/sec: 709.886\n",
      "INFO:tensorflow:loss = 0.31589994, step = 2400 (0.141 sec)\n",
      "INFO:tensorflow:global_step/sec: 766.703\n",
      "INFO:tensorflow:loss = 1.8187233, step = 2500 (0.130 sec)\n",
      "INFO:tensorflow:global_step/sec: 702.704\n",
      "INFO:tensorflow:loss = 0.020440282, step = 2600 (0.142 sec)\n",
      "INFO:tensorflow:global_step/sec: 781.7\n",
      "INFO:tensorflow:loss = 1.7533753, step = 2700 (0.128 sec)\n",
      "INFO:tensorflow:global_step/sec: 713.093\n",
      "INFO:tensorflow:loss = 0.037537534, step = 2800 (0.140 sec)\n",
      "INFO:tensorflow:global_step/sec: 791.238\n",
      "INFO:tensorflow:loss = 0.01472675, step = 2900 (0.127 sec)\n",
      "INFO:tensorflow:global_step/sec: 714.347\n",
      "INFO:tensorflow:loss = 0.8957474, step = 3000 (0.139 sec)\n",
      "INFO:tensorflow:global_step/sec: 734.476\n",
      "INFO:tensorflow:loss = 0.014303113, step = 3100 (0.136 sec)\n",
      "INFO:tensorflow:global_step/sec: 720.956\n",
      "INFO:tensorflow:loss = 0.033708267, step = 3200 (0.139 sec)\n",
      "INFO:tensorflow:global_step/sec: 711.328\n",
      "INFO:tensorflow:loss = 0.010177054, step = 3300 (0.141 sec)\n",
      "INFO:tensorflow:global_step/sec: 714.296\n",
      "INFO:tensorflow:loss = 0.0019414701, step = 3400 (0.140 sec)\n",
      "INFO:tensorflow:global_step/sec: 707.46\n",
      "INFO:tensorflow:loss = 0.0006855703, step = 3500 (0.141 sec)\n",
      "INFO:tensorflow:global_step/sec: 739.439\n",
      "INFO:tensorflow:loss = 2.5085526, step = 3600 (0.136 sec)\n",
      "INFO:tensorflow:global_step/sec: 696.849\n",
      "INFO:tensorflow:loss = 0.006196733, step = 3700 (0.142 sec)\n",
      "INFO:tensorflow:global_step/sec: 724.221\n",
      "INFO:tensorflow:loss = 0.8746424, step = 3800 (0.139 sec)\n",
      "INFO:tensorflow:global_step/sec: 711.751\n",
      "INFO:tensorflow:loss = 0.05106783, step = 3900 (0.139 sec)\n",
      "INFO:tensorflow:global_step/sec: 724.466\n",
      "INFO:tensorflow:loss = 0.18280254, step = 4000 (0.139 sec)\n",
      "INFO:tensorflow:global_step/sec: 737.734\n",
      "INFO:tensorflow:loss = 0.025210995, step = 4100 (0.135 sec)\n",
      "INFO:tensorflow:global_step/sec: 536.257\n",
      "INFO:tensorflow:loss = 0.055945702, step = 4200 (0.187 sec)\n",
      "INFO:tensorflow:global_step/sec: 524.591\n",
      "INFO:tensorflow:loss = 0.0052262153, step = 4300 (0.191 sec)\n",
      "INFO:tensorflow:global_step/sec: 772.039\n",
      "INFO:tensorflow:loss = 0.38231346, step = 4400 (0.129 sec)\n",
      "INFO:tensorflow:global_step/sec: 460.944\n",
      "INFO:tensorflow:loss = 0.01629749, step = 4500 (0.217 sec)\n",
      "INFO:tensorflow:global_step/sec: 622.806\n",
      "INFO:tensorflow:loss = 1.2072381, step = 4600 (0.161 sec)\n",
      "INFO:tensorflow:global_step/sec: 708.948\n",
      "INFO:tensorflow:loss = 0.007824298, step = 4700 (0.140 sec)\n",
      "INFO:tensorflow:global_step/sec: 746.323\n",
      "INFO:tensorflow:loss = 0.44908494, step = 4800 (0.134 sec)\n",
      "INFO:tensorflow:global_step/sec: 452.324\n",
      "INFO:tensorflow:loss = 0.00724947, step = 4900 (0.222 sec)\n",
      "INFO:tensorflow:global_step/sec: 682.428\n",
      "INFO:tensorflow:loss = 0.8024396, step = 5000 (0.145 sec)\n",
      "INFO:tensorflow:global_step/sec: 807.437\n",
      "INFO:tensorflow:loss = 0.14008854, step = 5100 (0.124 sec)\n",
      "INFO:tensorflow:global_step/sec: 757.607\n",
      "INFO:tensorflow:loss = 0.2346142, step = 5200 (0.133 sec)\n",
      "INFO:tensorflow:global_step/sec: 751.212\n",
      "INFO:tensorflow:loss = 1.9518921, step = 5300 (0.132 sec)\n",
      "INFO:tensorflow:global_step/sec: 690.558\n",
      "INFO:tensorflow:loss = 0.68777937, step = 5400 (0.145 sec)\n",
      "INFO:tensorflow:global_step/sec: 811.241\n",
      "INFO:tensorflow:loss = 0.001493191, step = 5500 (0.123 sec)\n",
      "INFO:tensorflow:global_step/sec: 771.342\n",
      "INFO:tensorflow:loss = 0.32250375, step = 5600 (0.130 sec)\n",
      "INFO:tensorflow:global_step/sec: 720.873\n",
      "INFO:tensorflow:loss = 0.92771125, step = 5700 (0.139 sec)\n",
      "INFO:tensorflow:global_step/sec: 750.166\n",
      "INFO:tensorflow:loss = 0.003179917, step = 5800 (0.134 sec)\n",
      "INFO:tensorflow:global_step/sec: 722.252\n",
      "INFO:tensorflow:loss = 0.8429829, step = 5900 (0.138 sec)\n",
      "INFO:tensorflow:global_step/sec: 717.555\n",
      "INFO:tensorflow:loss = 0.0586623, step = 6000 (0.138 sec)\n",
      "INFO:tensorflow:global_step/sec: 742.941\n",
      "INFO:tensorflow:loss = 0.10310234, step = 6100 (0.135 sec)\n",
      "INFO:tensorflow:global_step/sec: 729.31\n",
      "INFO:tensorflow:loss = 0.13955148, step = 6200 (0.137 sec)\n",
      "INFO:tensorflow:global_step/sec: 803.833\n",
      "INFO:tensorflow:loss = 0.007099866, step = 6300 (0.124 sec)\n",
      "INFO:tensorflow:global_step/sec: 786.635\n",
      "INFO:tensorflow:loss = 1.5336952, step = 6400 (0.128 sec)\n",
      "INFO:tensorflow:global_step/sec: 503.007\n",
      "INFO:tensorflow:loss = 0.11205508, step = 6500 (0.199 sec)\n",
      "INFO:tensorflow:global_step/sec: 485.102\n",
      "INFO:tensorflow:loss = 0.1958605, step = 6600 (0.206 sec)\n",
      "INFO:tensorflow:global_step/sec: 683.098\n",
      "INFO:tensorflow:loss = 0.006750313, step = 6700 (0.146 sec)\n",
      "INFO:tensorflow:global_step/sec: 682.287\n",
      "INFO:tensorflow:loss = 0.011955394, step = 6800 (0.148 sec)\n",
      "INFO:tensorflow:global_step/sec: 736.987\n",
      "INFO:tensorflow:loss = 0.03753849, step = 6900 (0.135 sec)\n",
      "INFO:tensorflow:global_step/sec: 615.855\n",
      "INFO:tensorflow:loss = 0.0022706424, step = 7000 (0.163 sec)\n",
      "INFO:tensorflow:global_step/sec: 683.266\n",
      "INFO:tensorflow:loss = 0.46392167, step = 7100 (0.148 sec)\n",
      "INFO:tensorflow:global_step/sec: 665.316\n",
      "INFO:tensorflow:loss = 0.05334111, step = 7200 (0.149 sec)\n",
      "INFO:tensorflow:global_step/sec: 697.563\n",
      "INFO:tensorflow:loss = 0.0071001123, step = 7300 (0.142 sec)\n",
      "INFO:tensorflow:global_step/sec: 788.03\n",
      "INFO:tensorflow:loss = 0.003649115, step = 7400 (0.128 sec)\n",
      "INFO:tensorflow:global_step/sec: 634.422\n",
      "INFO:tensorflow:loss = 0.16865227, step = 7500 (0.157 sec)\n",
      "INFO:tensorflow:global_step/sec: 659.749\n",
      "INFO:tensorflow:loss = 0.008758901, step = 7600 (0.152 sec)\n",
      "INFO:tensorflow:global_step/sec: 633.98\n",
      "INFO:tensorflow:loss = 1.5832437, step = 7700 (0.158 sec)\n",
      "INFO:tensorflow:global_step/sec: 652.457\n",
      "INFO:tensorflow:loss = 1.9443313, step = 7800 (0.153 sec)\n",
      "INFO:tensorflow:global_step/sec: 709.674\n",
      "INFO:tensorflow:loss = 0.003855771, step = 7900 (0.141 sec)\n"
     ]
    },
    {
     "name": "stdout",
     "output_type": "stream",
     "text": [
      "INFO:tensorflow:global_step/sec: 733.665\n",
      "INFO:tensorflow:loss = 0.067370586, step = 8000 (0.137 sec)\n",
      "INFO:tensorflow:global_step/sec: 674.471\n",
      "INFO:tensorflow:loss = 0.0082531655, step = 8100 (0.147 sec)\n",
      "INFO:tensorflow:global_step/sec: 783.79\n",
      "INFO:tensorflow:loss = 0.075205855, step = 8200 (0.128 sec)\n",
      "INFO:tensorflow:global_step/sec: 470.089\n",
      "INFO:tensorflow:loss = 0.03061301, step = 8300 (0.214 sec)\n",
      "INFO:tensorflow:global_step/sec: 462.679\n",
      "INFO:tensorflow:loss = 0.013933196, step = 8400 (0.216 sec)\n",
      "INFO:tensorflow:global_step/sec: 637.846\n",
      "INFO:tensorflow:loss = 0.31938633, step = 8500 (0.156 sec)\n",
      "INFO:tensorflow:global_step/sec: 661.712\n",
      "INFO:tensorflow:loss = 0.09543728, step = 8600 (0.151 sec)\n",
      "INFO:tensorflow:global_step/sec: 760.84\n",
      "INFO:tensorflow:loss = 0.47998136, step = 8700 (0.131 sec)\n",
      "INFO:tensorflow:global_step/sec: 638.129\n",
      "INFO:tensorflow:loss = 0.016848862, step = 8800 (0.158 sec)\n",
      "INFO:tensorflow:global_step/sec: 681.014\n",
      "INFO:tensorflow:loss = 0.04701033, step = 8900 (0.146 sec)\n",
      "INFO:tensorflow:global_step/sec: 673.216\n",
      "INFO:tensorflow:loss = 0.0008176874, step = 9000 (0.149 sec)\n",
      "INFO:tensorflow:global_step/sec: 688.007\n",
      "INFO:tensorflow:loss = 0.002504729, step = 9100 (0.144 sec)\n",
      "INFO:tensorflow:global_step/sec: 672.691\n",
      "INFO:tensorflow:loss = 0.00062883727, step = 9200 (0.150 sec)\n",
      "INFO:tensorflow:global_step/sec: 653.658\n",
      "INFO:tensorflow:loss = 0.22266573, step = 9300 (0.152 sec)\n",
      "INFO:tensorflow:global_step/sec: 690.015\n",
      "INFO:tensorflow:loss = 0.0022918964, step = 9400 (0.145 sec)\n",
      "INFO:tensorflow:global_step/sec: 660.586\n",
      "INFO:tensorflow:loss = 0.21735235, step = 9500 (0.152 sec)\n",
      "INFO:tensorflow:global_step/sec: 440.159\n",
      "INFO:tensorflow:loss = 0.012937745, step = 9600 (0.228 sec)\n",
      "INFO:tensorflow:global_step/sec: 704.367\n",
      "INFO:tensorflow:loss = 0.01874666, step = 9700 (0.141 sec)\n",
      "INFO:tensorflow:global_step/sec: 722.409\n",
      "INFO:tensorflow:loss = 0.00047133968, step = 9800 (0.138 sec)\n",
      "INFO:tensorflow:global_step/sec: 513.112\n",
      "INFO:tensorflow:loss = 0.0017224172, step = 9900 (0.197 sec)\n",
      "INFO:tensorflow:Saving checkpoints for 10000 into /tmp/tmpki6d3mze/model.ckpt.\n",
      "INFO:tensorflow:Loss for final step: 0.3265589.\n"
     ]
    },
    {
     "data": {
      "text/plain": [
       "<tensorflow.python.estimator.canned.dnn.DNNClassifier at 0x7f2662fcdd68>"
      ]
     },
     "execution_count": 17,
     "metadata": {},
     "output_type": "execute_result"
    }
   ],
   "source": [
    "classifier.train(input_fn=lambda: train_input_fn(train_x, train_y, batch_size=100), steps=10000)"
   ]
  },
  {
   "cell_type": "code",
   "execution_count": 18,
   "metadata": {},
   "outputs": [
    {
     "name": "stdout",
     "output_type": "stream",
     "text": [
      "INFO:tensorflow:Calling model_fn.\n",
      "WARNING:tensorflow:Trapezoidal rule is known to produce incorrect PR-AUCs; please switch to \"careful_interpolation\" instead.\n",
      "WARNING:tensorflow:Trapezoidal rule is known to produce incorrect PR-AUCs; please switch to \"careful_interpolation\" instead.\n",
      "INFO:tensorflow:Done calling model_fn.\n",
      "INFO:tensorflow:Starting evaluation at 2018-10-23-04:58:06\n",
      "INFO:tensorflow:Graph was finalized.\n",
      "INFO:tensorflow:Restoring parameters from /tmp/tmpki6d3mze/model.ckpt-10000\n",
      "INFO:tensorflow:Running local_init_op.\n",
      "INFO:tensorflow:Done running local_init_op.\n",
      "INFO:tensorflow:Finished evaluation at 2018-10-23-04:58:06\n",
      "INFO:tensorflow:Saving dict for global step 10000: accuracy = 0.99935, accuracy_baseline = 0.95705, auc = 0.99999076, auc_precision_recall = 0.99979293, average_loss = 0.0018778242, global_step = 10000, label/mean = 0.04295, loss = 0.18778242, precision = 0.9895833, prediction/mean = 0.04329745, recall = 0.99534345\n",
      "\n",
      "Test set accuracy: 0.999\n",
      "\n"
     ]
    }
   ],
   "source": [
    "eval_result = classifier.evaluate(input_fn=lambda: eval_input_fn(test_x, test_y, batch_size=100))\n",
    "print('\\nTest set accuracy: {accuracy:0.3f}\\n'.format(**eval_result))"
   ]
  },
  {
   "cell_type": "code",
   "execution_count": 19,
   "metadata": {},
   "outputs": [
    {
     "name": "stdout",
     "output_type": "stream",
     "text": [
      "full eval results\n",
      "{'accuracy': 0.99935, 'accuracy_baseline': 0.95705, 'auc': 0.99999076, 'auc_precision_recall': 0.99979293, 'average_loss': 0.0018778242, 'label/mean': 0.04295, 'loss': 0.18778242, 'precision': 0.9895833, 'prediction/mean': 0.04329745, 'recall': 0.99534345, 'global_step': 10000}\n"
     ]
    }
   ],
   "source": [
    "print(\"full eval results\")\n",
    "print(eval_result)"
   ]
  },
  {
   "cell_type": "code",
   "execution_count": null,
   "metadata": {},
   "outputs": [],
   "source": []
  }
 ],
 "metadata": {
  "kernelspec": {
   "display_name": "Python 3",
   "language": "python",
   "name": "python3"
  },
  "language_info": {
   "codemirror_mode": {
    "name": "ipython",
    "version": 3
   },
   "file_extension": ".py",
   "mimetype": "text/x-python",
   "name": "python",
   "nbconvert_exporter": "python",
   "pygments_lexer": "ipython3",
   "version": "3.6.5"
  }
 },
 "nbformat": 4,
 "nbformat_minor": 2
}
