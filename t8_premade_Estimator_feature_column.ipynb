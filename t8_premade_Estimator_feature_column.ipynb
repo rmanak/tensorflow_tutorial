{
 "cells": [
  {
   "cell_type": "code",
   "execution_count": null,
   "metadata": {
    "collapsed": true
   },
   "outputs": [],
   "source": [
    "import tensorflow as tf\n",
    "from sklearn import datasets\n",
    "\n",
    "import matplotlib.pyplot as plt\n",
    "from mpl_toolkits.mplot3d import Axes3D\n",
    "\n",
    "import numpy as np"
   ]
  },
  {
   "cell_type": "code",
   "execution_count": null,
   "metadata": {
    "collapsed": true
   },
   "outputs": [],
   "source": [
    "iris = datasets.load_iris()\n",
    "features = iris['data']\n",
    "target = iris['target']\n",
    "N = len(target)\n",
    "shuffle_index = np.arange(len(target))\n",
    "np.random.shuffle(shuffle_index)\n",
    "features = features[shuffle_index, :]\n",
    "target = target[shuffle_index]"
   ]
  },
  {
   "cell_type": "code",
   "execution_count": null,
   "metadata": {
    "collapsed": true
   },
   "outputs": [],
   "source": [
    "fig = plt.figure()\n",
    "ax = fig.add_subplot(111, projection='3d')\n",
    "ax.scatter(features[:,1], features[:, 2], features[:, 3], c=target)\n",
    "ax.view_init(30, 210)\n",
    "plt.show()"
   ]
  },
  {
   "cell_type": "code",
   "execution_count": null,
   "metadata": {
    "collapsed": true
   },
   "outputs": [],
   "source": [
    "TRAIN_SIZE = 120\n",
    "train_x, test_x = features[:TRAIN_SIZE], features[TRAIN_SIZE:]\n",
    "train_y, test_y = target[:TRAIN_SIZE], target[TRAIN_SIZE:]"
   ]
  },
  {
   "cell_type": "code",
   "execution_count": null,
   "metadata": {
    "collapsed": true
   },
   "outputs": [],
   "source": [
    "slices = tf.data.Dataset.from_tensor_slices(({'feat0': train_x[:,0],\n",
    "                                              'feat1': train_x[:, 1],\n",
    "                                              'feat2': train_x[:, 2],\n",
    "                                              'feat3': train_x[:, 2]},\n",
    "                                             train_y))"
   ]
  },
  {
   "cell_type": "code",
   "execution_count": null,
   "metadata": {
    "collapsed": true
   },
   "outputs": [],
   "source": [
    "print(slices)"
   ]
  },
  {
   "cell_type": "code",
   "execution_count": null,
   "metadata": {
    "collapsed": true
   },
   "outputs": [],
   "source": [
    "def train_input_fn(features, labels, batch_size=128):\n",
    "    # Can do all features as one:\n",
    "    # dataset = tf.data.Dataset.from_tensor_slices(({'feats': features}, labels))\n",
    "    # Or separate \"columns\":\n",
    "    dataset = tf.data.Dataset.from_tensor_slices(({'feat0': features[:,0],\n",
    "                                                   'feat1': features[:, 1],\n",
    "                                                   'feat2': features[:, 2],\n",
    "                                                   'feat3': features[:, 2]},\n",
    "                                                   labels))\n",
    "    dataset = dataset.shuffle(1000).repeat().batch(batch_size)\n",
    "    return dataset"
   ]
  },
  {
   "cell_type": "code",
   "execution_count": null,
   "metadata": {
    "collapsed": true
   },
   "outputs": [],
   "source": [
    "def eval_input_fn(features, labels, batch_size=32):\n",
    "    feats = {'feat0': features[:,0], 'feat1': features[:, 1],\n",
    "             'feat2': features[:, 2],'feat3': features[:, 2]}\n",
    "    \n",
    "    if labels is None:\n",
    "        inputs = feats\n",
    "    else:\n",
    "        inputs = (feats, labels)\n",
    "\n",
    "    dataset = tf.data.Dataset.from_tensor_slices(inputs)\n",
    "\n",
    "    dataset = dataset.batch(batch_size)\n",
    "\n",
    "    return dataset"
   ]
  },
  {
   "cell_type": "code",
   "execution_count": null,
   "metadata": {
    "collapsed": true
   },
   "outputs": [],
   "source": [
    "train_input_fn(train_x, train_y)"
   ]
  },
  {
   "cell_type": "code",
   "execution_count": null,
   "metadata": {
    "collapsed": true
   },
   "outputs": [],
   "source": [
    "my_feature_columns = []\n",
    "for key in ['feat0', 'feat1', 'feat2', 'feat3']:\n",
    "    my_feature_columns.append(tf.feature_column.numeric_column(key=key))"
   ]
  },
  {
   "cell_type": "code",
   "execution_count": null,
   "metadata": {
    "collapsed": true
   },
   "outputs": [],
   "source": [
    "# More on feature column:\n",
    "# https://www.tensorflow.org/guide/feature_columns"
   ]
  },
  {
   "cell_type": "code",
   "execution_count": null,
   "metadata": {
    "collapsed": true
   },
   "outputs": [],
   "source": [
    "classifier = tf.estimator.DNNClassifier(\n",
    "    feature_columns=my_feature_columns,\n",
    "    hidden_units=[10, 10],\n",
    "    n_classes=3)"
   ]
  },
  {
   "cell_type": "code",
   "execution_count": null,
   "metadata": {
    "collapsed": true
   },
   "outputs": [],
   "source": [
    "classifier.train(input_fn=lambda: train_input_fn(train_x, train_y, batch_size=100), steps=1000)"
   ]
  },
  {
   "cell_type": "code",
   "execution_count": null,
   "metadata": {
    "collapsed": true
   },
   "outputs": [],
   "source": [
    "eval_result = classifier.evaluate(input_fn=lambda: eval_input_fn(test_x, test_y, batch_size=100))\n",
    "print('\\nTest set accuracy: {accuracy:0.3f}\\n'.format(**eval_result))"
   ]
  },
  {
   "cell_type": "code",
   "execution_count": null,
   "metadata": {
    "collapsed": true
   },
   "outputs": [],
   "source": [
    "pred_results = classifier.predict(input_fn=lambda: eval_input_fn(test_x[:5], test_y[:5], batch_size=100))"
   ]
  },
  {
   "cell_type": "code",
   "execution_count": null,
   "metadata": {
    "collapsed": true
   },
   "outputs": [],
   "source": [
    "for pred, expect in zip(pred_results, test_y[:5]):\n",
    "    class_id = pred['class_ids'][0]\n",
    "    prob = pred['probabilities'][class_id]\n",
    "    print(\"Expected: {} Pred: {} Prob: {}\".format(expect, class_id, prob))"
   ]
  }
 ],
 "metadata": {
  "kernelspec": {
   "display_name": "Python 3",
   "language": "python",
   "name": "python3"
  },
  "language_info": {
   "codemirror_mode": {
    "name": "ipython",
    "version": 3
   },
   "file_extension": ".py",
   "mimetype": "text/x-python",
   "name": "python",
   "nbconvert_exporter": "python",
   "pygments_lexer": "ipython3",
   "version": "3.6.3"
  }
 },
 "nbformat": 4,
 "nbformat_minor": 2
}
