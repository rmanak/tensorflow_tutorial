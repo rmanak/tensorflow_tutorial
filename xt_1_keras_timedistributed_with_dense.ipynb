{
 "cells": [
  {
   "cell_type": "code",
   "execution_count": null,
   "metadata": {},
   "outputs": [],
   "source": [
    "import numpy as np\n",
    "from keras.layers import Dense, TimeDistributed\n",
    "import tensorflow as tf"
   ]
  },
  {
   "cell_type": "code",
   "execution_count": null,
   "metadata": {},
   "outputs": [],
   "source": [
    "X = np.array([ [[1, 2, 3],\n",
    "                [4, 5, 6],\n",
    "                [7, 8, 9],\n",
    "                [10, 11, 12]\n",
    "               ],\n",
    "               [[3, 1, 7],\n",
    "                [8, 2, 5],\n",
    "                [11, 10, 4],\n",
    "                [9, 6, 12]\n",
    "               ]\n",
    "              ]).astype(np.float32)\n",
    "print(X.shape)"
   ]
  },
  {
   "cell_type": "code",
   "execution_count": null,
   "metadata": {},
   "outputs": [],
   "source": [
    "dense_weights = np.array([[0.1, 0.2, 0.3, 0.4, 0.5],\n",
    "                          [0.2, 0.7, 0.9, 0.1, 0.2],\n",
    "                          [0.1, 0.8, 0.6, 0.2, 0.4]])\n",
    "bias = np.array([0.1, 0.3, 0.7, 0.8, 0.4])\n",
    "print(dense_weights.shape)\n"
   ]
  },
  {
   "cell_type": "code",
   "execution_count": null,
   "metadata": {},
   "outputs": [],
   "source": [
    "dense = Dense(input_dim=3, units=5, weights=[dense_weights, bias])\n",
    "input_tensor = tf.Variable(X, name='inputX')\n",
    "output_tensor1 = dense(input_tensor)\n",
    "output_tensor2 = TimeDistributed(dense)(input_tensor)\n",
    "print(output_tensor1.shape)\n",
    "print(output_tensor2.shape)"
   ]
  },
  {
   "cell_type": "code",
   "execution_count": null,
   "metadata": {},
   "outputs": [],
   "source": [
    "with tf.Session() as sess:\n",
    "    sess.run(tf.global_variables_initializer())\n",
    "    output1 = sess.run(output_tensor1)\n",
    "    output2 = sess.run(output_tensor2)"
   ]
  },
  {
   "cell_type": "code",
   "execution_count": null,
   "metadata": {},
   "outputs": [],
   "source": [
    "print(output1 - output2)"
   ]
  },
  {
   "cell_type": "code",
   "execution_count": null,
   "metadata": {
    "collapsed": true
   },
   "outputs": [],
   "source": []
  }
 ],
 "metadata": {
  "kernelspec": {
   "display_name": "Python 3",
   "language": "python",
   "name": "python3"
  },
  "language_info": {
   "codemirror_mode": {
    "name": "ipython",
    "version": 3
   },
   "file_extension": ".py",
   "mimetype": "text/x-python",
   "name": "python",
   "nbconvert_exporter": "python",
   "pygments_lexer": "ipython3",
   "version": "3.6.3"
  }
 },
 "nbformat": 4,
 "nbformat_minor": 2
}
