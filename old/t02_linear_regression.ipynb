{
 "cells": [
  {
   "cell_type": "code",
   "execution_count": null,
   "metadata": {},
   "outputs": [],
   "source": [
    "import tensorflow as tf\n",
    "import numpy as np"
   ]
  },
  {
   "cell_type": "code",
   "execution_count": null,
   "metadata": {},
   "outputs": [],
   "source": [
    "N = 10000\n",
    "W1, W2, W3, b = 2.0, 3.0, 1.0, 4.0\n",
    "noise_level = 0.05\n",
    "\n",
    "X_input = np.random.randn(N, 3).astype(np.float32)\n",
    "Y_noise = np.random.normal(loc=0.0, scale=noise_level, size=N)\n",
    "\n",
    "Y_input = (W1*X_input[:, 0] + \n",
    "           W2*X_input[:, 1] + \n",
    "           W3*X_input[:, 2] + \n",
    "           b + \n",
    "           Y_noise).reshape(N, 1)"
   ]
  },
  {
   "cell_type": "code",
   "execution_count": null,
   "metadata": {
    "collapsed": true
   },
   "outputs": [],
   "source": [
    "input_vals = tf.placeholder(dtype=tf.float32, shape=(None, 3), name='X')\n",
    "output_vals = tf.placeholder(dtype=tf.float32, shape=(None, 1), name='Y')"
   ]
  },
  {
   "cell_type": "code",
   "execution_count": null,
   "metadata": {},
   "outputs": [],
   "source": [
    "W = tf.get_variable('W', shape=(3, 1), dtype=tf.float32, \n",
    "                    initializer=tf.random_normal_initializer(seed=0))\n",
    "\n",
    "b = tf.get_variable('b', shape=(1, 1), dtype=tf.float32, \n",
    "                    initializer=tf.random_normal_initializer(seed=0))\n",
    "\n",
    "Y = tf.add(tf.matmul(input_vals, W), b)"
   ]
  },
  {
   "cell_type": "code",
   "execution_count": null,
   "metadata": {},
   "outputs": [],
   "source": [
    "loss = tf.reduce_mean(tf.square(Y-output_vals), name='loss')\n",
    "optimizer = tf.train.GradientDescentOptimizer(learning_rate=0.001).minimize(loss)"
   ]
  },
  {
   "cell_type": "code",
   "execution_count": null,
   "metadata": {
    "collapsed": true
   },
   "outputs": [],
   "source": [
    "def batchify(x, y, size=100):\n",
    "    counter = 0\n",
    "    while counter < x.shape[0]:\n",
    "        yield x[counter:counter+size, :], y[counter:counter+size, :]\n",
    "        counter += size"
   ]
  },
  {
   "cell_type": "code",
   "execution_count": null,
   "metadata": {},
   "outputs": [],
   "source": [
    "EPOCHS = 100\n",
    "BATCH_SIZE = 100\n",
    "with tf.Session() as sess:\n",
    "    sess.run(tf.global_variables_initializer())\n",
    "    for i in range(EPOCHS):\n",
    "        for x_batch, y_batch in batchify(X_input, Y_input, size=BATCH_SIZE):\n",
    "            loss_val, _ = sess.run([loss, optimizer], \n",
    "                                   feed_dict={input_vals: x_batch, output_vals:y_batch})\n",
    "        if i % 10 == 0:\n",
    "            print(\"epoch: {}, loss: {}\".format(i, loss_val))\n",
    "    print(\"epoch: {}, final loss: {}\".format(100, loss_val))\n",
    "    print(\"final weights:\\n\", W.eval())\n",
    "    print(\"final bias\\n\", b.eval())"
   ]
  }
 ],
 "metadata": {
  "kernelspec": {
   "display_name": "Python 3",
   "language": "python",
   "name": "python3"
  },
  "language_info": {
   "codemirror_mode": {
    "name": "ipython",
    "version": 3
   },
   "file_extension": ".py",
   "mimetype": "text/x-python",
   "name": "python",
   "nbconvert_exporter": "python",
   "pygments_lexer": "ipython3",
   "version": "3.6.5"
  }
 },
 "nbformat": 4,
 "nbformat_minor": 2
}
