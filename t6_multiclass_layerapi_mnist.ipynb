{
 "cells": [
  {
   "cell_type": "code",
   "execution_count": null,
   "metadata": {},
   "outputs": [],
   "source": [
    "import numpy as np\n",
    "import tensorflow as tf\n",
    "import gzip\n",
    "import pickle\n",
    "import matplotlib.pyplot as plt"
   ]
  },
  {
   "cell_type": "code",
   "execution_count": null,
   "metadata": {},
   "outputs": [],
   "source": [
    "# python 3.6\n",
    "with gzip.open('datasets/mnist.pkl.gz', 'rb') as fp:\n",
    "    train_set, valid_set, test_set = pickle.load(fp, encoding='latin1')"
   ]
  },
  {
   "cell_type": "code",
   "execution_count": null,
   "metadata": {},
   "outputs": [],
   "source": [
    "train_X, train_y = train_set"
   ]
  },
  {
   "cell_type": "code",
   "execution_count": null,
   "metadata": {},
   "outputs": [],
   "source": [
    "element_id = 50\n",
    "plt.imshow(train_X[element_id].reshape(28, 28), cmap='Greys')\n",
    "plt.title(\"This is `{}`\".format(train_y[element_id]))\n",
    "plt.show()"
   ]
  },
  {
   "cell_type": "code",
   "execution_count": null,
   "metadata": {},
   "outputs": [],
   "source": [
    "# Functional API: https://www.tensorflow.org/api_docs/python/tf/layers/dense\n",
    "# Class API: https://www.tensorflow.org/api_docs/python/tf/layers/Dense\n",
    "def neural_net(input_layer, hidden_layers=[256, 256], num_classes=10):\n",
    "    layer = input_layer\n",
    "    for units in hidden_layers:\n",
    "        layer = tf.layers.dense(layer, units=units, activation=tf.nn.relu)\n",
    "    output_layer = tf.layers.dense(layer, units=num_classes, activation=tf.nn)\n",
    "    return output_layer"
   ]
  },
  {
   "cell_type": "code",
   "execution_count": null,
   "metadata": {},
   "outputs": [],
   "source": [
    "X = tf.placeholder(shape=(None, 784), dtype=tf.float32)\n",
    "Y = tf.placeholder(shape=(None), dtype=tf.int32)"
   ]
  }
 ],
 "metadata": {
  "kernelspec": {
   "display_name": "Python 3",
   "language": "python",
   "name": "python3"
  },
  "language_info": {
   "codemirror_mode": {
    "name": "ipython",
    "version": 3
   },
   "file_extension": ".py",
   "mimetype": "text/x-python",
   "name": "python",
   "nbconvert_exporter": "python",
   "pygments_lexer": "ipython3",
   "version": "3.6.5"
  }
 },
 "nbformat": 4,
 "nbformat_minor": 2
}
