{
 "cells": [
  {
   "cell_type": "code",
   "execution_count": null,
   "metadata": {},
   "outputs": [],
   "source": [
    "import numpy as np\n",
    "import tensorflow as tf\n",
    "import matplotlib.pyplot as plt\n",
    "from sklearn.metrics import accuracy_score"
   ]
  },
  {
   "cell_type": "code",
   "execution_count": null,
   "metadata": {},
   "outputs": [],
   "source": [
    "X = np.random.uniform(low=0.0, high=3.0, size=(1000, 2))"
   ]
  },
  {
   "cell_type": "code",
   "execution_count": null,
   "metadata": {},
   "outputs": [],
   "source": [
    "y_input = X[:, 0] * X[:, 1]\n",
    "filter_ = y_input < 1.0\n",
    "y_input[filter_] = 0\n",
    "y_input[~filter_] = 1"
   ]
  },
  {
   "cell_type": "code",
   "execution_count": null,
   "metadata": {},
   "outputs": [],
   "source": [
    "plt.scatter(X[:, 0], X[:, 1], c=y_input)\n",
    "plt.show()"
   ]
  },
  {
   "cell_type": "code",
   "execution_count": null,
   "metadata": {},
   "outputs": [],
   "source": [
    "x_input = np.zeros((1000, 3))\n",
    "x_input[:, 0:2] = X\n",
    "x_input[:, 2] = X[:, 0]*X[:, 1]\n",
    "x_input = x_input.astype(np.float32)\n",
    "y_input = y_input.reshape((1000, 1)).astype(np.float32)"
   ]
  },
  {
   "cell_type": "code",
   "execution_count": null,
   "metadata": {},
   "outputs": [],
   "source": [
    "x = tf.placeholder(dtype=tf.float32, shape=(None, 3), name='input')\n",
    "y = tf.placeholder(dtype=tf.float32, shape=(None, 1), name='output')"
   ]
  },
  {
   "cell_type": "code",
   "execution_count": null,
   "metadata": {},
   "outputs": [],
   "source": [
    "W = tf.get_variable(name='w', shape=(3, 1), initializer=tf.random_normal_initializer(seed=0))\n",
    "b = tf.get_variable(name='b', shape=(1, 1), initializer=tf.random_normal_initializer(seed=0))"
   ]
  },
  {
   "cell_type": "code",
   "execution_count": null,
   "metadata": {},
   "outputs": [],
   "source": [
    "y_pred = tf.sigmoid(tf.matmul(x, W) + b)"
   ]
  },
  {
   "cell_type": "code",
   "execution_count": null,
   "metadata": {},
   "outputs": [],
   "source": [
    "loss = tf.reduce_mean(-y*tf.log(y_pred) + (y-1)*tf.log(1-y_pred))\n",
    "optimizer = tf.train.GradientDescentOptimizer(learning_rate=0.001).minimize(loss)"
   ]
  },
  {
   "cell_type": "code",
   "execution_count": null,
   "metadata": {},
   "outputs": [],
   "source": [
    "def batchify(x, y, size=100):\n",
    "    counter = 0\n",
    "    while counter < x.shape[0]:\n",
    "        yield x[counter:counter+size, :], y[counter:counter+size]\n",
    "        counter += size"
   ]
  },
  {
   "cell_type": "code",
   "execution_count": null,
   "metadata": {},
   "outputs": [],
   "source": [
    "EPOCH = 2300\n",
    "BATCH_SIZE = 100\n",
    "with tf.Session() as sess:\n",
    "    sess.run(tf.global_variables_initializer())\n",
    "    for epoch in range(EPOCH):\n",
    "        for x_batch, y_batch in batchify(x_input, y_input):\n",
    "            pred_vals, loss_val, _ = sess.run([y_pred, loss, optimizer], feed_dict={x: x_batch, y:y_batch})\n",
    "        if epoch % 100 == 0:\n",
    "            pred_vals[pred_vals < 0.5] = 0\n",
    "            pred_vals[pred_vals > 0.5] = 1\n",
    "            print(\"epoch {}, loss {}, batch accuracy {}\".format(epoch, loss_val,\n",
    "                                                          accuracy_score(np.squeeze(y_batch), \n",
    "                                                                         np.squeeze(pred_vals))))\n",
    "    print(\"final loss {}\". format(loss_val))\n",
    "    pred_vals = sess.run(y_pred, feed_dict={x: x_input, y:y_input})\n",
    "    print(\"final weights: \\n\", W.eval())\n",
    "    print(\"final bias: \\n\", b.eval())"
   ]
  },
  {
   "cell_type": "code",
   "execution_count": null,
   "metadata": {},
   "outputs": [],
   "source": [
    "pred_vals = np.squeeze(pred_vals)\n",
    "plt.scatter(X[:, 0], X[:, 1], c = pred_vals)\n",
    "plt.colorbar()\n",
    "plt.show()"
   ]
  },
  {
   "cell_type": "code",
   "execution_count": null,
   "metadata": {},
   "outputs": [],
   "source": []
  }
 ],
 "metadata": {
  "kernelspec": {
   "display_name": "Python 3",
   "language": "python",
   "name": "python3"
  },
  "language_info": {
   "codemirror_mode": {
    "name": "ipython",
    "version": 3
   },
   "file_extension": ".py",
   "mimetype": "text/x-python",
   "name": "python",
   "nbconvert_exporter": "python",
   "pygments_lexer": "ipython3",
   "version": "3.6.5"
  }
 },
 "nbformat": 4,
 "nbformat_minor": 2
}
