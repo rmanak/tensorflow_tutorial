{
 "cells": [
  {
   "cell_type": "code",
   "execution_count": null,
   "metadata": {},
   "outputs": [],
   "source": [
    "import tensorflow as tf\n",
    "import numpy as np\n",
    "import sklearn.datasets\n",
    "import matplotlib.pyplot as plt"
   ]
  },
  {
   "cell_type": "code",
   "execution_count": null,
   "metadata": {},
   "outputs": [],
   "source": [
    "def get_nonlinear_data(size=3000, kind='circles', factor=0.3, noise=0.2):\n",
    "    if kind == 'circles':\n",
    "        return sklearn.datasets.make_circles(n_samples=size, factor=factor, noise=noise)\n",
    "    \n",
    "    if kind == 'moons':\n",
    "        return sklearn.datasets.make_moons(n_samples=size, noise=noise)\n",
    "    \n",
    "    raise ValueError(f\"unknown kind {kind}\")\n"
   ]
  },
  {
   "cell_type": "code",
   "execution_count": null,
   "metadata": {},
   "outputs": [],
   "source": [
    "X, label = get_nonlinear_data(kind='moons', noise=0.3)\n",
    "plt.scatter(X[:,0], X[:, 1], c=label, alpha=0.3)"
   ]
  },
  {
   "cell_type": "code",
   "execution_count": null,
   "metadata": {},
   "outputs": [],
   "source": [
    "def get_model(input_shape=(None, 2), hidden_units=[10, 5], output_shape=(None, 2)):\n",
    "    input_X = tf.placeholder(shape=input_shape, name='input_X', dtype=tf.float32)\n",
    "    output_Y = tf.placeholder(shape=output_shape, name='output_X', dtype=tf.float32)\n",
    "    curr_layer = input_X\n",
    "    curr_size = input_shape[1]\n",
    "    for l, size in enumerate(hidden_units + [output_shape[1]]):\n",
    "        hidden_layer_W = tf.get_variable(name=f'HiddenLayerW{l}', \n",
    "                                         shape=(curr_size, size), \n",
    "                                         initializer=tf.random_normal_initializer(seed=0))\n",
    "        \n",
    "        hidden_layer_b = tf.get_variable(name=f'HiddenLayerB{l}', \n",
    "                                         shape=(1, size), \n",
    "                                         initializer=tf.random_normal_initializer(seed=0))\n",
    "        \n",
    "        curr_layer = tf.sigmoid(tf.matmul(curr_layer, hidden_layer_W) + hidden_layer_b)\n",
    "        curr_size = size\n",
    "    \n",
    "    return input_X, output_Y, curr_layer\n",
    "        \n",
    "        "
   ]
  },
  {
   "cell_type": "code",
   "execution_count": null,
   "metadata": {},
   "outputs": [],
   "source": [
    "input_X, output_Y, curr_layer = get_model()"
   ]
  },
  {
   "cell_type": "code",
   "execution_count": null,
   "metadata": {},
   "outputs": [],
   "source": []
  }
 ],
 "metadata": {
  "kernelspec": {
   "display_name": "Python 3",
   "language": "python",
   "name": "python3"
  },
  "language_info": {
   "codemirror_mode": {
    "name": "ipython",
    "version": 3
   },
   "file_extension": ".py",
   "mimetype": "text/x-python",
   "name": "python",
   "nbconvert_exporter": "python",
   "pygments_lexer": "ipython3",
   "version": "3.6.5"
  }
 },
 "nbformat": 4,
 "nbformat_minor": 2
}
