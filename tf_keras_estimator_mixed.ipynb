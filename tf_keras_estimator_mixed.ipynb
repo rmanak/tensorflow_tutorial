{
 "cells": [
  {
   "cell_type": "code",
   "execution_count": 25,
   "metadata": {
    "ExecuteTime": {
     "end_time": "2020-01-29T19:48:02.410670Z",
     "start_time": "2020-01-29T19:48:02.405876Z"
    }
   },
   "outputs": [],
   "source": [
    "import numpy as np\n",
    "import tensorflow as tf\n"
   ]
  },
  {
   "cell_type": "code",
   "execution_count": 31,
   "metadata": {
    "ExecuteTime": {
     "end_time": "2020-01-29T19:50:14.706196Z",
     "start_time": "2020-01-29T19:50:14.700969Z"
    }
   },
   "outputs": [],
   "source": [
    "def softmax(x, axis=None):\n",
    "    return np.exp(x) / np.sum(np.exp(x), axis=axis, keepdims=True)"
   ]
  },
  {
   "cell_type": "code",
   "execution_count": 5,
   "metadata": {
    "ExecuteTime": {
     "end_time": "2020-01-29T19:39:38.013290Z",
     "start_time": "2020-01-29T19:39:38.008522Z"
    }
   },
   "outputs": [
    {
     "name": "stdout",
     "output_type": "stream",
     "text": [
      "TF version should be 2.1+: 2.1.0\n"
     ]
    }
   ],
   "source": [
    "print(\"TF version should be 2.1+:\", tf.__version__)"
   ]
  },
  {
   "cell_type": "code",
   "execution_count": 44,
   "metadata": {
    "ExecuteTime": {
     "end_time": "2020-01-29T19:56:37.097753Z",
     "start_time": "2020-01-29T19:56:37.093128Z"
    }
   },
   "outputs": [],
   "source": [
    "FEAT_DIM = 200\n",
    "DATA_SIZE = 10000\n",
    "BATCH_SIZE = 100\n",
    "NUM_CLASSES = 3"
   ]
  },
  {
   "cell_type": "code",
   "execution_count": 9,
   "metadata": {
    "ExecuteTime": {
     "end_time": "2020-01-29T19:41:32.104193Z",
     "start_time": "2020-01-29T19:41:32.010456Z"
    }
   },
   "outputs": [],
   "source": [
    "X = np.random.randn(DATA_SIZE, FEAT_DIM)"
   ]
  },
  {
   "cell_type": "code",
   "execution_count": 37,
   "metadata": {
    "ExecuteTime": {
     "end_time": "2020-01-29T19:51:21.385244Z",
     "start_time": "2020-01-29T19:51:21.371867Z"
    }
   },
   "outputs": [],
   "source": [
    "v1 = np.random.randn(FEAT_DIM).reshape((1, FEAT_DIM))\n",
    "v2 = np.random.randn(FEAT_DIM).reshape((1, FEAT_DIM))\n",
    "v3 = np.random.randn(FEAT_DIM).reshape((1, FEAT_DIM))\n",
    "V = np.concatenate([v1, v2, v3], axis=0)\n",
    "y = np.where(softmax(X.dot(V.T), axis=1) > 0.5, 1, 0)"
   ]
  },
  {
   "cell_type": "code",
   "execution_count": 38,
   "metadata": {
    "ExecuteTime": {
     "end_time": "2020-01-29T19:51:29.057037Z",
     "start_time": "2020-01-29T19:51:29.052147Z"
    }
   },
   "outputs": [
    {
     "name": "stdout",
     "output_type": "stream",
     "text": [
      "(10000, 200)\n",
      "(10000, 3)\n"
     ]
    }
   ],
   "source": [
    "print(X.shape)\n",
    "print(y.shape)"
   ]
  },
  {
   "cell_type": "code",
   "execution_count": 41,
   "metadata": {
    "ExecuteTime": {
     "end_time": "2020-01-29T19:52:34.979607Z",
     "start_time": "2020-01-29T19:52:34.972561Z"
    }
   },
   "outputs": [
    {
     "name": "stdout",
     "output_type": "stream",
     "text": [
      "equally distributed classes: [0.3256 0.3361 0.3362]\n"
     ]
    }
   ],
   "source": [
    "print(\"equally distributed classes:\", np.mean(y, axis=0))"
   ]
  },
  {
   "cell_type": "code",
   "execution_count": 111,
   "metadata": {
    "ExecuteTime": {
     "end_time": "2020-01-29T20:11:59.495691Z",
     "start_time": "2020-01-29T20:11:59.489856Z"
    }
   },
   "outputs": [],
   "source": [
    "class Shape(tuple):\n",
    "    @property\n",
    "    def ndims(self):\n",
    "        return len(self) + 1\n",
    "    def as_list(self):\n",
    "        return list(self)"
   ]
  },
  {
   "cell_type": "code",
   "execution_count": 112,
   "metadata": {
    "ExecuteTime": {
     "end_time": "2020-01-29T20:11:59.730793Z",
     "start_time": "2020-01-29T20:11:59.725522Z"
    }
   },
   "outputs": [],
   "source": [
    "class LayerWithShape(tf.keras.layers.InputLayer):\n",
    "    def __init__(self, *args, **kwargs):\n",
    "        super().__init__(*args, **kwargs)\n",
    "        print('here')\n",
    "        self.shape = Shape(kwargs['input_shape'])\n",
    "    "
   ]
  },
  {
   "cell_type": "code",
   "execution_count": 113,
   "metadata": {
    "ExecuteTime": {
     "end_time": "2020-01-29T20:12:00.128374Z",
     "start_time": "2020-01-29T20:12:00.121313Z"
    }
   },
   "outputs": [],
   "source": [
    "def neural_net_model(hidden_units=[128, 64], output_units=NUM_CLASSES):\n",
    "    layer = LayerWithShape(input_shape=(FEAT_DIM,))\n",
    "    for units in hidden_units:\n",
    "        layer = tf.compat.v1.layers.dense(layer, units=units, activation=tf.nn.relu)\n",
    "    \n",
    "    logits = tf.compat.v1.layers.dense(layer, units=output_units, activation=None)\n",
    "    return logits                    "
   ]
  }
 ],
 "metadata": {
  "kernelspec": {
   "display_name": "Python 3",
   "language": "python",
   "name": "python3"
  },
  "language_info": {
   "codemirror_mode": {
    "name": "ipython",
    "version": 3
   },
   "file_extension": ".py",
   "mimetype": "text/x-python",
   "name": "python",
   "nbconvert_exporter": "python",
   "pygments_lexer": "ipython3",
   "version": "3.6.9"
  }
 },
 "nbformat": 4,
 "nbformat_minor": 2
}
